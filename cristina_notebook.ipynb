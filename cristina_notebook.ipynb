{
 "cells": [
  {
   "cell_type": "code",
   "execution_count": 1,
   "id": "b4e3eb7f",
   "metadata": {},
   "outputs": [],
   "source": [
    "import pandas as pd\n",
    "import numpy as np\n",
    "import matplotlib.pyplot as plt\n",
    "import seaborn as sns\n",
    "from sklearn.cluster import KMeans\n",
    "from sklearn.preprocessing import MinMaxScaler, RobustScaler\n",
    "from sklearn.model_selection import train_test_split\n",
    "import warnings\n",
    "warnings.filterwarnings('ignore')\n",
    "\n",
    "#my imports\n",
    "import env\n",
    "import os\n",
    "import wrangle as w"
   ]
  },
  {
   "cell_type": "code",
   "execution_count": 2,
   "id": "bbac9d49",
   "metadata": {},
   "outputs": [],
   "source": [
    "#Get my data\n",
    "df = w.acquire_zillow()"
   ]
  },
  {
   "cell_type": "code",
   "execution_count": 3,
   "id": "e309e4a5",
   "metadata": {},
   "outputs": [
    {
     "name": "stdout",
     "output_type": "stream",
     "text": [
      "<class 'pandas.core.frame.DataFrame'>\n",
      "RangeIndex: 52441 entries, 0 to 52440\n",
      "Data columns (total 69 columns):\n",
      " #   Column                        Non-Null Count  Dtype  \n",
      "---  ------                        --------------  -----  \n",
      " 0   parcelid                      52441 non-null  int64  \n",
      " 1   propertylandusetypeid         52441 non-null  float64\n",
      " 2   typeconstructiontypeid        76 non-null     float64\n",
      " 3   storytypeid                   47 non-null     float64\n",
      " 4   airconditioningtypeid         13638 non-null  float64\n",
      " 5   architecturalstyletypeid      70 non-null     float64\n",
      " 6   buildingclasstypeid           0 non-null      float64\n",
      " 7   heatingorsystemtypeid         33935 non-null  float64\n",
      " 8   id                            52441 non-null  int64  \n",
      " 9   basementsqft                  47 non-null     float64\n",
      " 10  bathroomcnt                   52441 non-null  float64\n",
      " 11  bedroomcnt                    52441 non-null  float64\n",
      " 12  buildingqualitytypeid         33740 non-null  float64\n",
      " 13  calculatedbathnbr             52304 non-null  float64\n",
      " 14  decktypeid                    389 non-null    float64\n",
      " 15  finishedfloor1squarefeet      4381 non-null   float64\n",
      " 16  calculatedfinishedsquarefeet  52359 non-null  float64\n",
      " 17  finishedsquarefeet12          52194 non-null  float64\n",
      " 18  finishedsquarefeet13          0 non-null      float64\n",
      " 19  finishedsquarefeet15          0 non-null      float64\n",
      " 20  finishedsquarefeet50          4381 non-null   float64\n",
      " 21  finishedsquarefeet6           165 non-null    float64\n",
      " 22  fips                          52441 non-null  float64\n",
      " 23  fireplacecnt                  7243 non-null   float64\n",
      " 24  fullbathcnt                   52304 non-null  float64\n",
      " 25  garagecarcnt                  18015 non-null  float64\n",
      " 26  garagetotalsqft               18015 non-null  float64\n",
      " 27  hashottuborspa                1515 non-null   float64\n",
      " 28  latitude                      52441 non-null  float64\n",
      " 29  longitude                     52441 non-null  float64\n",
      " 30  lotsizesquarefeet             52072 non-null  float64\n",
      " 31  poolcnt                       11096 non-null  float64\n",
      " 32  poolsizesum                   867 non-null    float64\n",
      " 33  pooltypeid10                  444 non-null    float64\n",
      " 34  pooltypeid2                   1071 non-null   float64\n",
      " 35  pooltypeid7                   10009 non-null  float64\n",
      " 36  propertycountylandusecode     52441 non-null  object \n",
      " 37  propertyzoningdesc            33848 non-null  object \n",
      " 38  rawcensustractandblock        52441 non-null  float64\n",
      " 39  regionidcity                  51404 non-null  float64\n",
      " 40  regionidcounty                52441 non-null  float64\n",
      " 41  regionidneighborhood          19033 non-null  float64\n",
      " 42  regionidzip                   52415 non-null  float64\n",
      " 43  roomcnt                       52441 non-null  float64\n",
      " 44  threequarterbathnbr           6724 non-null   float64\n",
      " 45  unitcnt                       33847 non-null  float64\n",
      " 46  yardbuildingsqft17            1937 non-null   float64\n",
      " 47  yardbuildingsqft26            63 non-null     float64\n",
      " 48  yearbuilt                     52325 non-null  float64\n",
      " 49  numberofstories               14561 non-null  float64\n",
      " 50  fireplaceflag                 81 non-null     float64\n",
      " 51  structuretaxvaluedollarcnt    52357 non-null  float64\n",
      " 52  taxvaluedollarcnt             52440 non-null  float64\n",
      " 53  assessmentyear                52441 non-null  float64\n",
      " 54  landtaxvaluedollarcnt         52440 non-null  float64\n",
      " 55  taxamount                     52437 non-null  float64\n",
      " 56  taxdelinquencyflag            2079 non-null   object \n",
      " 57  taxdelinquencyyear            2079 non-null   float64\n",
      " 58  censustractandblock           52318 non-null  float64\n",
      " 59  id.1                          52441 non-null  int64  \n",
      " 60  logerror                      52441 non-null  float64\n",
      " 61  transactiondate               52441 non-null  object \n",
      " 62  heatingorsystemdesc           33935 non-null  object \n",
      " 63  buildingclassdesc             0 non-null      float64\n",
      " 64  architecturalstyledesc        70 non-null     object \n",
      " 65  airconditioningdesc           13638 non-null  object \n",
      " 66  storydesc                     47 non-null     object \n",
      " 67  typeconstructiondesc          76 non-null     object \n",
      " 68  propertylandusedesc           52441 non-null  object \n",
      "dtypes: float64(56), int64(3), object(10)\n",
      "memory usage: 27.6+ MB\n"
     ]
    }
   ],
   "source": [
    "df.info()"
   ]
  },
  {
   "cell_type": "code",
   "execution_count": 4,
   "id": "e1378af9",
   "metadata": {},
   "outputs": [],
   "source": [
    "df = w.prepare_zillow(df)"
   ]
  },
  {
   "cell_type": "code",
   "execution_count": 5,
   "id": "54e00fba",
   "metadata": {},
   "outputs": [
    {
     "name": "stdout",
     "output_type": "stream",
     "text": [
      "<class 'pandas.core.frame.DataFrame'>\n",
      "Int64Index: 50709 entries, 0 to 52440\n",
      "Data columns (total 41 columns):\n",
      " #   Column                        Non-Null Count  Dtype  \n",
      "---  ------                        --------------  -----  \n",
      " 0   parcelid                      50709 non-null  int64  \n",
      " 1   propertylandusetypeid         50709 non-null  float64\n",
      " 2   basementsqft                  50709 non-null  float64\n",
      " 3   bathroomcnt                   50709 non-null  float64\n",
      " 4   bedroomcnt                    50709 non-null  float64\n",
      " 5   calculatedbathnbr             50709 non-null  float64\n",
      " 6   decktypeid                    50709 non-null  float64\n",
      " 7   calculatedfinishedsquarefeet  50709 non-null  float64\n",
      " 8   finishedsquarefeet12          50709 non-null  float64\n",
      " 9   fips                          50709 non-null  float64\n",
      " 10  fireplacecnt                  50709 non-null  float64\n",
      " 11  fullbathcnt                   50709 non-null  float64\n",
      " 12  hashottuborspa                50709 non-null  float64\n",
      " 13  latitude                      50709 non-null  float64\n",
      " 14  longitude                     50709 non-null  float64\n",
      " 15  lotsizesquarefeet             50709 non-null  float64\n",
      " 16  poolcnt                       50709 non-null  float64\n",
      " 17  pooltypeid10                  50709 non-null  float64\n",
      " 18  pooltypeid2                   50709 non-null  float64\n",
      " 19  pooltypeid7                   50709 non-null  float64\n",
      " 20  propertycountylandusecode     50709 non-null  object \n",
      " 21  rawcensustractandblock        50709 non-null  float64\n",
      " 22  regionidcity                  50709 non-null  float64\n",
      " 23  regionidcounty                50709 non-null  float64\n",
      " 24  regionidzip                   50709 non-null  float64\n",
      " 25  roomcnt                       50709 non-null  float64\n",
      " 26  threequarterbathnbr           50709 non-null  float64\n",
      " 27  yearbuilt                     50709 non-null  float64\n",
      " 28  fireplaceflag                 50709 non-null  float64\n",
      " 29  structuretaxvaluedollarcnt    50709 non-null  float64\n",
      " 30  taxvaluedollarcnt             50709 non-null  float64\n",
      " 31  assessmentyear                50709 non-null  float64\n",
      " 32  landtaxvaluedollarcnt         50709 non-null  float64\n",
      " 33  taxamount                     50709 non-null  float64\n",
      " 34  taxdelinquencyflag            50709 non-null  object \n",
      " 35  taxdelinquencyyear            50709 non-null  float64\n",
      " 36  censustractandblock           50709 non-null  float64\n",
      " 37  logerror                      50709 non-null  float64\n",
      " 38  transactiondate               50709 non-null  object \n",
      " 39  typeconstructiondesc          50709 non-null  object \n",
      " 40  propertylandusedesc           50709 non-null  object \n",
      "dtypes: float64(35), int64(1), object(5)\n",
      "memory usage: 16.2+ MB\n"
     ]
    }
   ],
   "source": [
    "df.info()"
   ]
  },
  {
   "cell_type": "code",
   "execution_count": 6,
   "id": "1b030639",
   "metadata": {},
   "outputs": [
    {
     "data": {
      "text/plain": [
       "0"
      ]
     },
     "execution_count": 6,
     "metadata": {},
     "output_type": "execute_result"
    }
   ],
   "source": [
    "#Ensuring no nulls are present\n",
    "df.isna().sum().sum()"
   ]
  },
  {
   "cell_type": "code",
   "execution_count": null,
   "id": "85cbdab0",
   "metadata": {},
   "outputs": [],
   "source": []
  }
 ],
 "metadata": {
  "kernelspec": {
   "display_name": "Python 3 (ipykernel)",
   "language": "python",
   "name": "python3"
  },
  "language_info": {
   "codemirror_mode": {
    "name": "ipython",
    "version": 3
   },
   "file_extension": ".py",
   "mimetype": "text/x-python",
   "name": "python",
   "nbconvert_exporter": "python",
   "pygments_lexer": "ipython3",
   "version": "3.9.12"
  }
 },
 "nbformat": 4,
 "nbformat_minor": 5
}
