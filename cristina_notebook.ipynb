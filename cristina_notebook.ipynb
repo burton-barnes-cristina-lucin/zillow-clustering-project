{
 "cells": [
  {
   "cell_type": "code",
   "execution_count": 1,
   "id": "98d5c0e4",
   "metadata": {},
   "outputs": [],
   "source": [
    "import pandas as pd\n",
    "import numpy as np\n",
    "import matplotlib.pyplot as plt\n",
    "import seaborn as sns\n",
    "from sklearn.cluster import KMeans\n",
    "from sklearn.preprocessing import MinMaxScaler, RobustScaler\n",
    "from sklearn.model_selection import train_test_split\n",
    "import warnings\n",
    "warnings.filterwarnings('ignore')\n",
    "\n",
    "#my imports\n",
    "import env\n",
    "import os\n",
    "import wrangle as w\n",
    "import explore as e"
   ]
  },
  {
   "cell_type": "code",
   "execution_count": 2,
   "id": "468169aa",
   "metadata": {},
   "outputs": [],
   "source": [
    "#Get my data\n",
    "df = w.acquire_zillow()"
   ]
  },
  {
   "cell_type": "code",
   "execution_count": 3,
   "id": "88451e52",
   "metadata": {},
   "outputs": [
    {
     "name": "stdout",
     "output_type": "stream",
     "text": [
      "<class 'pandas.core.frame.DataFrame'>\n",
      "RangeIndex: 52441 entries, 0 to 52440\n",
      "Data columns (total 69 columns):\n",
      " #   Column                        Non-Null Count  Dtype  \n",
      "---  ------                        --------------  -----  \n",
      " 0   parcelid                      52441 non-null  int64  \n",
      " 1   propertylandusetypeid         52441 non-null  float64\n",
      " 2   typeconstructiontypeid        76 non-null     float64\n",
      " 3   storytypeid                   47 non-null     float64\n",
      " 4   airconditioningtypeid         13638 non-null  float64\n",
      " 5   architecturalstyletypeid      70 non-null     float64\n",
      " 6   buildingclasstypeid           0 non-null      float64\n",
      " 7   heatingorsystemtypeid         33935 non-null  float64\n",
      " 8   id                            52441 non-null  int64  \n",
      " 9   basementsqft                  47 non-null     float64\n",
      " 10  bathroomcnt                   52441 non-null  float64\n",
      " 11  bedroomcnt                    52441 non-null  float64\n",
      " 12  buildingqualitytypeid         33740 non-null  float64\n",
      " 13  calculatedbathnbr             52304 non-null  float64\n",
      " 14  decktypeid                    389 non-null    float64\n",
      " 15  finishedfloor1squarefeet      4381 non-null   float64\n",
      " 16  calculatedfinishedsquarefeet  52359 non-null  float64\n",
      " 17  finishedsquarefeet12          52194 non-null  float64\n",
      " 18  finishedsquarefeet13          0 non-null      float64\n",
      " 19  finishedsquarefeet15          0 non-null      float64\n",
      " 20  finishedsquarefeet50          4381 non-null   float64\n",
      " 21  finishedsquarefeet6           165 non-null    float64\n",
      " 22  fips                          52441 non-null  float64\n",
      " 23  fireplacecnt                  7243 non-null   float64\n",
      " 24  fullbathcnt                   52304 non-null  float64\n",
      " 25  garagecarcnt                  18015 non-null  float64\n",
      " 26  garagetotalsqft               18015 non-null  float64\n",
      " 27  hashottuborspa                1515 non-null   float64\n",
      " 28  latitude                      52441 non-null  float64\n",
      " 29  longitude                     52441 non-null  float64\n",
      " 30  lotsizesquarefeet             52072 non-null  float64\n",
      " 31  poolcnt                       11096 non-null  float64\n",
      " 32  poolsizesum                   867 non-null    float64\n",
      " 33  pooltypeid10                  444 non-null    float64\n",
      " 34  pooltypeid2                   1071 non-null   float64\n",
      " 35  pooltypeid7                   10009 non-null  float64\n",
      " 36  propertycountylandusecode     52441 non-null  object \n",
      " 37  propertyzoningdesc            33848 non-null  object \n",
      " 38  rawcensustractandblock        52441 non-null  float64\n",
      " 39  regionidcity                  51404 non-null  float64\n",
      " 40  regionidcounty                52441 non-null  float64\n",
      " 41  regionidneighborhood          19033 non-null  float64\n",
      " 42  regionidzip                   52415 non-null  float64\n",
      " 43  roomcnt                       52441 non-null  float64\n",
      " 44  threequarterbathnbr           6724 non-null   float64\n",
      " 45  unitcnt                       33847 non-null  float64\n",
      " 46  yardbuildingsqft17            1937 non-null   float64\n",
      " 47  yardbuildingsqft26            63 non-null     float64\n",
      " 48  yearbuilt                     52325 non-null  float64\n",
      " 49  numberofstories               14561 non-null  float64\n",
      " 50  fireplaceflag                 81 non-null     float64\n",
      " 51  structuretaxvaluedollarcnt    52357 non-null  float64\n",
      " 52  taxvaluedollarcnt             52440 non-null  float64\n",
      " 53  assessmentyear                52441 non-null  float64\n",
      " 54  landtaxvaluedollarcnt         52440 non-null  float64\n",
      " 55  taxamount                     52437 non-null  float64\n",
      " 56  taxdelinquencyflag            2079 non-null   object \n",
      " 57  taxdelinquencyyear            2079 non-null   float64\n",
      " 58  censustractandblock           52318 non-null  float64\n",
      " 59  id.1                          52441 non-null  int64  \n",
      " 60  logerror                      52441 non-null  float64\n",
      " 61  transactiondate               52441 non-null  object \n",
      " 62  heatingorsystemdesc           33935 non-null  object \n",
      " 63  buildingclassdesc             0 non-null      float64\n",
      " 64  architecturalstyledesc        70 non-null     object \n",
      " 65  airconditioningdesc           13638 non-null  object \n",
      " 66  storydesc                     47 non-null     object \n",
      " 67  typeconstructiondesc          76 non-null     object \n",
      " 68  propertylandusedesc           52441 non-null  object \n",
      "dtypes: float64(56), int64(3), object(10)\n",
      "memory usage: 27.6+ MB\n"
     ]
    }
   ],
   "source": [
    "df.info()"
   ]
  },
  {
   "cell_type": "code",
   "execution_count": 4,
   "id": "bb07a252",
   "metadata": {},
   "outputs": [],
   "source": [
    "df = w.prepare_zillow(df)"
   ]
  },
  {
   "cell_type": "code",
   "execution_count": 5,
   "id": "2f2faf27",
   "metadata": {},
   "outputs": [
    {
     "name": "stdout",
     "output_type": "stream",
     "text": [
      "<class 'pandas.core.frame.DataFrame'>\n",
      "Int64Index: 50709 entries, 0 to 52440\n",
      "Data columns (total 37 columns):\n",
      " #   Column                    Non-Null Count  Dtype  \n",
      "---  ------                    --------------  -----  \n",
      " 0   parcel_id                 50709 non-null  int64  \n",
      " 1   propertylandusetypeid     50709 non-null  float64\n",
      " 2   basement_sqft             50709 non-null  float64\n",
      " 3   bath_count                50709 non-null  float64\n",
      " 4   bed_count                 50709 non-null  float64\n",
      " 5   calc_bath_and_bed         50709 non-null  float64\n",
      " 6   decktypeid                50709 non-null  float64\n",
      " 7   calc_sqft                 50709 non-null  float64\n",
      " 8   finished_sqft12           50709 non-null  float64\n",
      " 9   fips                      50709 non-null  float64\n",
      " 10  fireplace_cnt             50709 non-null  float64\n",
      " 11  full_bath_cnt             50709 non-null  float64\n",
      " 12  has_hot_tub               50709 non-null  float64\n",
      " 13  latitude                  50709 non-null  float64\n",
      " 14  longitude                 50709 non-null  float64\n",
      " 15  lot_sqft                  50709 non-null  float64\n",
      " 16  pool_count                50709 non-null  float64\n",
      " 17  pooltypeid10              50709 non-null  float64\n",
      " 18  pooltypeid2               50709 non-null  float64\n",
      " 19  pooltypeid7               50709 non-null  float64\n",
      " 20  property_county_use_code  50709 non-null  object \n",
      " 21  raw_census_tract_block    50709 non-null  float64\n",
      " 22  region_id_city            50709 non-null  float64\n",
      " 23  region_id_county          50709 non-null  float64\n",
      " 24  region_id_zip             50709 non-null  float64\n",
      " 25  room_count                50709 non-null  float64\n",
      " 26  three_quarter_bath        50709 non-null  float64\n",
      " 27  year_built                50709 non-null  float64\n",
      " 28  fireplace_flag            50709 non-null  float64\n",
      " 29  structure_tax_value       50709 non-null  float64\n",
      " 30  tax_value                 50709 non-null  float64\n",
      " 31  assessment_year           50709 non-null  float64\n",
      " 32  land_value                50709 non-null  float64\n",
      " 33  tax_amount                50709 non-null  float64\n",
      " 34  tax_delinquency_year      50709 non-null  float64\n",
      " 35  census_tract_and_block    50709 non-null  float64\n",
      " 36  log_error                 50709 non-null  float64\n",
      "dtypes: float64(35), int64(1), object(1)\n",
      "memory usage: 14.7+ MB\n"
     ]
    }
   ],
   "source": [
    "df.info()"
   ]
  },
  {
   "cell_type": "code",
   "execution_count": null,
   "id": "48fbfa36",
   "metadata": {},
   "outputs": [],
   "source": [
    "#Ensuring no nulls are present\n",
    "df.isna().sum().sum()"
   ]
  },
  {
   "cell_type": "code",
   "execution_count": null,
   "id": "f0ccc27a",
   "metadata": {},
   "outputs": [],
   "source": [
    "df.head().T"
   ]
  },
  {
   "cell_type": "code",
   "execution_count": null,
   "id": "11b9cf48",
   "metadata": {},
   "outputs": [],
   "source": [
    "#Drop non-numeric columns not needed for exploration:\n",
    "df.drop(['taxdelinquencyflag', 'transactiondate', 'typeconstructiondesc', 'propertylandusedesc'], axis=1, inplace=True)"
   ]
  },
  {
   "cell_type": "code",
   "execution_count": null,
   "id": "cf8c2d87",
   "metadata": {},
   "outputs": [],
   "source": [
    "df.head().T"
   ]
  },
  {
   "cell_type": "code",
   "execution_count": null,
   "id": "fd06850e",
   "metadata": {},
   "outputs": [],
   "source": [
    "#Renaming columns to something readable: shoutout to Woody\n",
    "rename_dict = {\n",
    "    'parcelid':'parcel_id', 'basementsqft':'basement_sqft',\n",
    "    'bathroomcnt':'bath_count', 'bedroomcnt':'bed_count',\n",
    "       'calculatedbathnbr':'calc_bath_and_bed','finishedfloor1squarefeet':'finished_floor1_sqft',\n",
    "       'calculatedfinishedsquarefeet':'calc_sqft', 'finishedsquarefeet12':'finished_sqft12',\n",
    "       'finishedsquarefeet13':'finished_sqft13', 'finishedsquarefeet15':'finished_sqft15',\n",
    "        'finishedsquarefeet50':'finished_sqft50',\n",
    "       'finishedsquarefeet6':'finished_sqft6', 'fireplacecnt':'fireplace_cnt',\n",
    "        'fullbathcnt':'full_bath_cnt',\n",
    "       'garagecarcnt':'garage_car_count', 'garagetotalsqft':'garage_sqft',\n",
    "       'hashottuborspa':'has_hot_tub',\n",
    "        'lotsizesquarefeet':'lot_sqft', 'poolcnt':'pool_count', 'poolsizesum':'sum_pool_size',\n",
    "        'propertycountylandusecode':'property_county_use_code',\n",
    "        'propertyzoningdesc':'property_zoning_desc',\n",
    "       'rawcensustractandblock':'raw_census_tract_block', 'regionidcity':'region_id_city',\n",
    "        'regionidcounty':'region_id_county',\n",
    "       'regionidneighborhood':'region_id_neighbor', 'regionidzip':'region_id_zip',\n",
    "        'roomcnt':'room_count', 'threequarterbathnbr':'three_quarter_bath',\n",
    "       'unitcnt':'unit_count', 'yardbuildingsqft17':'yard_building_sqft17',\n",
    "        'yardbuildingsqft26':'yard_building_sqft26', 'yearbuilt':'year_built',\n",
    "       'numberofstories':'no_stories', 'fireplaceflag':'fireplace_flag',\n",
    "        'structuretaxvaluedollarcnt':'structure_tax_value',\n",
    "       'taxvaluedollarcnt':'tax_value', 'assessmentyear':'assessment_year',\n",
    "        'landtaxvaluedollarcnt':'land_value',\n",
    "       'taxamount':'tax_amount', 'taxdelinquencyflag':'tax_delinquency_flag',\n",
    "       'taxdelinquencyyear':'tax_delinquency_year',\n",
    "       'censustractandblock':'census_tract_and_block', 'logerror':'log_error',\n",
    "       'transactiondate':'transaction_date',\n",
    "       'airconditioningdesc':'air_conditioning_desc',\n",
    "       'architecturalstyledesc':'architectural_style_desc',\n",
    "       'buildingclassdesc':'building_class_desc',\n",
    "       'heatingorsystemdesc':'heating_system_desc', 'propertylandusedesc':'property_land_use_desc',\n",
    "        'storydesc':'story_desc',\n",
    "       'typeconstructiondesc':'type_construction_desc'\n",
    "}"
   ]
  },
  {
   "cell_type": "code",
   "execution_count": null,
   "id": "b85591cc",
   "metadata": {},
   "outputs": [],
   "source": [
    "df.rename(columns=rename_dict, inplace=True)"
   ]
  },
  {
   "cell_type": "code",
   "execution_count": null,
   "id": "ea0c44d8",
   "metadata": {},
   "outputs": [],
   "source": [
    "df.head().T"
   ]
  },
  {
   "cell_type": "code",
   "execution_count": null,
   "id": "523897bc",
   "metadata": {},
   "outputs": [],
   "source": []
  },
  {
   "cell_type": "code",
   "execution_count": null,
   "id": "b427f088",
   "metadata": {},
   "outputs": [],
   "source": [
    "def get_upper_outliers(s, k):\n",
    "    '''\n",
    "    Given a series and a cutoff value, k, returns the upper outliers for the\n",
    "    series.\n",
    "\n",
    "    The values returned will be either 0 (if the point is not an outlier), or a\n",
    "    number that indicates how far away from the upper bound the observation is.\n",
    "    '''\n",
    "    q1, q3 = s.quantile([.25, .75])\n",
    "    iqr = q3 - q1\n",
    "    upper_bound = q3 + k * iqr\n",
    "    return s.apply(lambda x: max([x - upper_bound, 0]))\n",
    "\n",
    "def add_upper_outlier_columns(df, k):\n",
    "    '''\n",
    "    Add a column with the suffix _outliers for all the numeric columns\n",
    "    in the given dataframe.\n",
    "    '''\n",
    "    # outlier_cols = {col + '_outliers': get_upper_outliers(df[col], k)\n",
    "    #                 for col in df.select_dtypes('number')}\n",
    "    # return df.assign(**outlier_cols)\n",
    "\n",
    "    for col in df.select_dtypes('number'):\n",
    "        df[col + '_outliers'] = get_upper_outliers(df[col], k)\n",
    "\n",
    "    return df\n",
    "\n",
    "add_upper_outlier_columns(df, k=1.5)\n",
    "\n",
    "df.head()"
   ]
  },
  {
   "cell_type": "code",
   "execution_count": null,
   "id": "defb63c8",
   "metadata": {},
   "outputs": [],
   "source": [
    "outlier_cols = [col for col in df if col.endswith('_outliers')]\n",
    "for col in outlier_cols:\n",
    "    print('~~~\\n' + col)\n",
    "    data = df[col][df[col] > 0]\n",
    "    print(data.describe())"
   ]
  },
  {
   "cell_type": "code",
   "execution_count": null,
   "id": "8403d27d",
   "metadata": {},
   "outputs": [],
   "source": [
    "def create_features(df):\n",
    "    df['age'] = 2017 - df.year_built\n",
    "    df['age_bin'] = pd.cut(df.age, \n",
    "                           bins = [0, 5, 10, 20, 30, 40, 50, 60, 70, 80, 90, 100, 110, 120, 130, 140],\n",
    "                           labels = [0, .066, .133, .20, .266, .333, .40, .466, .533, \n",
    "                                     .60, .666, .733, .8, .866, .933])\n",
    "\n",
    "    # create taxrate variable\n",
    "    df['taxrate'] = df.tax_amount/df.tax_value*100\n",
    "\n",
    "    # create acres variable\n",
    "    df['acres'] = df.lot_sqft/43560\n",
    "\n",
    "    # bin acres\n",
    "    df['acres_bin'] = pd.cut(df.acres, bins = [0, .10, .15, .25, .5, 1, 5, 10, 20, 50, 200], \n",
    "                       labels = [0, .1, .2, .3, .4, .5, .6, .7, .8, .9])\n",
    "\n",
    "    # square feet bin\n",
    "    df['sqft_bin'] = pd.cut(df.calc_sqft, \n",
    "                            bins = [0, 800, 1000, 1250, 1500, 2000, 2500, 3000, 4000, 7000, 12000],\n",
    "                            labels = [0, .1, .2, .3, .4, .5, .6, .7, .8, .9]\n",
    "                       )\n",
    "\n",
    "    # dollar per square foot-structure\n",
    "    df['structure_dollar_per_sqft'] = df.structure_tax_value/df.calc_sqft\n",
    "\n",
    "\n",
    "    df['structure_dollar_sqft_bin'] = pd.cut(df.structure_dollar_per_sqft, \n",
    "                                             bins = [0, 25, 50, 75, 100, 150, 200, 300, 500, 1000, 1500],\n",
    "                                             labels = [0, .1, .2, .3, .4, .5, .6, .7, .8, .9]\n",
    "                                            )\n",
    "\n",
    "\n",
    "    # dollar per square foot-land\n",
    "    df['land_dollar_per_sqft'] = df.land_value/df.lot_sqft\n",
    "\n",
    "    df['lot_dollar_sqft_bin'] = pd.cut(df.land_dollar_per_sqft, bins = [0, 1, 5, 20, 50, 100, 250, 500, 1000, 1500, 2000],\n",
    "                                       labels = [0, .1, .2, .3, .4, .5, .6, .7, .8, .9]\n",
    "                                      )\n",
    "\n",
    "\n",
    "    # update datatypes of binned values to be float\n",
    "    df = df.astype({'sqft_bin': 'float64', 'acres_bin': 'float64', 'age_bin': 'float64',\n",
    "                    'structure_dollar_sqft_bin': 'float64', 'lot_dollar_sqft_bin': 'float64'})\n",
    "\n",
    "\n",
    "    # ratio of bathrooms to bedrooms\n",
    "    df['bath_bed_ratio'] = df.bath_count/df.bed_count\n",
    "\n",
    "    # 12447 is the ID for city of LA. \n",
    "    # I confirmed through sampling and plotting, as well as looking up a few addresses.\n",
    "    df['cola'] = df['region_id_city'].apply(lambda x: 1 if x == 12447.0 else 0)\n",
    "\n",
    "    return df"
   ]
  },
  {
   "cell_type": "code",
   "execution_count": null,
   "id": "a1fcb39d",
   "metadata": {},
   "outputs": [],
   "source": [
    "df = e.create_features(df)"
   ]
  },
  {
   "cell_type": "code",
   "execution_count": null,
   "id": "4f494061",
   "metadata": {},
   "outputs": [],
   "source": [
    "df.head().T"
   ]
  },
  {
   "cell_type": "code",
   "execution_count": null,
   "id": "755dafdf",
   "metadata": {},
   "outputs": [],
   "source": []
  }
 ],
 "metadata": {
  "kernelspec": {
   "display_name": "Python 3 (ipykernel)",
   "language": "python",
   "name": "python3"
  },
  "language_info": {
   "codemirror_mode": {
    "name": "ipython",
    "version": 3
   },
   "file_extension": ".py",
   "mimetype": "text/x-python",
   "name": "python",
   "nbconvert_exporter": "python",
   "pygments_lexer": "ipython3",
   "version": "3.9.12"
  }
 },
 "nbformat": 4,
 "nbformat_minor": 5
}
